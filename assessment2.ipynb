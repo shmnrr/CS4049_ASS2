{
 "cells": [
  {
   "cell_type": "code",
   "execution_count": 1,
   "metadata": {},
   "outputs": [],
   "source": [
    "import gymnasium\n",
    "import gymnasium.logger\n",
    "import gymnasium.wrappers.record_video\n",
    "import numpy as np\n",
    "import tensorflow\n",
    "import tensorflow.keras\n",
    "import tensorflow.keras.layers\n",
    "import uuid\n",
    "import typing\n",
    "import matplotlib.pyplot as plt"
   ]
  },
  {
   "cell_type": "code",
   "execution_count": 2,
   "metadata": {},
   "outputs": [],
   "source": [
    "def create_environment(name):\n",
    "    folder_name = f\"./video/{name}/{uuid.uuid4()}\"\n",
    "    env = gymnasium.make(name, render_mode=\"rgb_array\")\n",
    "    env = gymnasium.wrappers.record_video.RecordVideo(env, folder_name, disable_logger=True)\n",
    "    return env, folder_name"
   ]
  },
  {
   "cell_type": "code",
   "execution_count": 3,
   "metadata": {},
   "outputs": [],
   "source": [
    "class QTable:\n",
    "    def __init__(self, action_space: int, state_space: int, learning_rate: float = 0.3, discount_factor: float = 0.95):\n",
    "        self.q = np.random.random((state_space, action_space))\n",
    "        self.alpha = learning_rate\n",
    "        self.gamma = discount_factor\n",
    "        \n",
    "    def update(\n",
    "        self, states: typing.List[int], next_states: typing.List[int],\n",
    "        actions_taken: typing.List[int], rewards: typing.List[float]\n",
    "    ):\n",
    "        for i in range(len(states)):\n",
    "            self.q[states[i]][actions_taken[i]] = self.q[states[i]][actions_taken[i]] + self.alpha * (\n",
    "                rewards[i] + self.gamma * self.max_reward(next_states[i]) - self.q[states[i]][actions_taken[i]]\n",
    "            )\n",
    "\n",
    "    def max_reward(self, state: int) -> float:\n",
    "        return max(self.qt(state))\n",
    "\n",
    "    def qt(self, state: int) -> typing.List[float]:\n",
    "        return list(self.q[state])"
   ]
  },
  {
   "cell_type": "code",
   "execution_count": 4,
   "metadata": {},
   "outputs": [],
   "source": [
    "class QNeural:\n",
    "    def __init__(self, action_space: int, state_space: int, discount_factor: float = 0.95):\n",
    "        self.state_space = state_space\n",
    "        self.action_space = action_space\n",
    "        self.gamma = discount_factor\n",
    "\n",
    "        self.model = tensorflow.keras.Sequential([\n",
    "            tensorflow.keras.layers.Input(shape=(state_space,)),\n",
    "            tensorflow.keras.layers.Dense(512, activation=\"relu\"),\n",
    "            tensorflow.keras.layers.Dense(action_space, activation=\"linear\"),\n",
    "        ])\n",
    "        self.model.compile(loss='mse', optimizer=tensorflow.keras.optimizers.legacy.Adam())\n",
    "\n",
    "    def update(\n",
    "        self, states: typing.List[int], next_states: typing.List[int],\n",
    "        actions_taken: typing.List[int], rewards: typing.List[float]\n",
    "    ):\n",
    "        state_one_hot = tensorflow.one_hot(states, self.state_space)\n",
    "        state_next_one_hot = tensorflow.one_hot(states, self.state_space)\n",
    "        masks = tensorflow.one_hot(actions_taken, self.action_space)\n",
    "        \n",
    "        target = self.model.predict(state_next_one_hot, verbose=0)\n",
    "        updated_q_values = rewards + self.gamma * tensorflow.reduce_max(target, axis=1)\n",
    "        \n",
    "        q_values = self.model.predict(state_one_hot, verbose=0)\n",
    "        q_action = tensorflow.reduce_sum(tensorflow.multiply(q_values, masks), axis=1)\n",
    "        self.model.fit(state_one_hot, q_action, epochs=1, verbose=0)\n",
    "        \n",
    "    def qt(self, state: int) -> typing.List[float]:\n",
    "        state_tensor = tensorflow.one_hot(state, self.state_space)\n",
    "        state_tensor = tensorflow.expand_dims(state_tensor, 0)\n",
    "        action_probs = self.model(state_tensor, training=False)\n",
    "        action = tensorflow.argmax(action_probs[0]).numpy()\n",
    "        return action"
   ]
  },
  {
   "cell_type": "code",
   "execution_count": 5,
   "metadata": {},
   "outputs": [],
   "source": [
    "class EpsilonGreedy:\n",
    "    def __init__(self, action_space: int, state_space: int, epsilon_decay: float = 0.99):\n",
    "        self.epsilon = 1\n",
    "        self.epsilon_decay = epsilon_decay\n",
    "        self.action_space = action_space\n",
    "        self.state_space = state_space\n",
    "\n",
    "    def next_action(self, q: typing.List[typing.Tuple[int, float]], state: int) -> int:\n",
    "        n = np.random.rand()\n",
    "        if n < self.epsilon:\n",
    "            action = np.random.randint(0, self.action_space)\n",
    "        else:\n",
    "            action = max(q, key=lambda a: a[1])[0]\n",
    "            \n",
    "        if self.epsilon > 0.01:\n",
    "            self.epsilon *= self.epsilon_decay\n",
    "\n",
    "        return action"
   ]
  },
  {
   "cell_type": "code",
   "execution_count": 9,
   "metadata": {},
   "outputs": [],
   "source": [
    "class UpperConfidenceBound:\n",
    "    def __init__(self, action_space: int, state_space: int, p_decay: float = 4.0):\n",
    "        self.p_decay = p_decay\n",
    "        self.t = 1\n",
    "        self.action_space = action_space\n",
    "        self.state_space = state_space\n",
    "        self.count_selected = np.ones((state_space, action_space))\n",
    "\n",
    "    def next_action(self, q: typing.List[typing.Tuple[int, float]], state: int) -> int:\n",
    "        ut = np.sqrt(\n",
    "            (self.p_decay * np.log(self.t)) / np.array(self.count_selected[state])\n",
    "        )\n",
    "        qt = np.array(q) + ut\n",
    "        \n",
    "        action = max(enumerate(qt), key=lambda n: n[1])[0]\n",
    "\n",
    "        self.count_selected[state][action] += 1\n",
    "        self.t += 1\n",
    "\n",
    "        return action"
   ]
  },
  {
   "cell_type": "code",
   "execution_count": 7,
   "metadata": {},
   "outputs": [],
   "source": [
    "def learn(env, num_episodes: int, selection_method, learning_method):\n",
    "    batch_size = 32\n",
    "    update_after_actions = 16\n",
    "    max_steps_per_episode = 1000\n",
    "    \n",
    "    l = learning_method(env.action_space.n, env.observation_space.n)\n",
    "    s = selection_method(env.action_space.n, env.observation_space.n)\n",
    "\n",
    "    episode_mean_reward = []\n",
    "\n",
    "    for episode in range(num_episodes):\n",
    "        round = 0\n",
    "        rewards_history = []\n",
    "        action_history = []\n",
    "        state_history = []\n",
    "        state_next_history = []\n",
    "\n",
    "        if episode % 100 == 0:\n",
    "            print(f\"Episode {episode}...\")\n",
    "        observation, state = env.reset()\n",
    "        done = False\n",
    "\n",
    "        while not done and round < max_steps_per_episode:\n",
    "            round += 1\n",
    "            \n",
    "            action = s.next_action(l.qt(observation), observation)\n",
    "\n",
    "            old_observation = observation\n",
    "            observation, reward, done, _, state = env.step(action)\n",
    "\n",
    "            rewards_history.append(reward)\n",
    "            action_history.append(action)\n",
    "            state_history.append(old_observation)\n",
    "            state_next_history.append(old_observation)\n",
    "\n",
    "            if round % update_after_actions == 0 and len(rewards_history) > batch_size:\n",
    "                indices = np.random.choice(range(len(rewards_history)), size=batch_size)\n",
    "                \n",
    "                state_sample = [state_history[i] for i in indices]\n",
    "                state_next_sample = [state_next_history[i] for i in indices]\n",
    "                action_sample = [action_history[i] for i in indices]\n",
    "                rewards_sample = [rewards_history[i] for i in indices]\n",
    "            \n",
    "                l.update(state_sample, state_next_sample, action_sample, rewards_sample)\n",
    "\n",
    "        episode_mean_reward.append(np.mean(rewards_history))\n",
    "\n",
    "    env.close()\n",
    "    return episode_mean_reward"
   ]
  },
  {
   "cell_type": "code",
   "execution_count": 10,
   "metadata": {},
   "outputs": [
    {
     "name": "stdout",
     "output_type": "stream",
     "text": [
      "Episode 0...\n",
      "Episode 100...\n",
      "Episode 200...\n",
      "Episode 300...\n",
      "Episode 400...\n",
      "Episode 500...\n",
      "Episode 600...\n",
      "Episode 700...\n",
      "Episode 800...\n",
      "Episode 900...\n",
      "Episode 1000...\n",
      "Episode 1100...\n",
      "Episode 1200...\n",
      "Episode 1300...\n",
      "Episode 1400...\n",
      "Episode 1500...\n",
      "Episode 1600...\n",
      "Episode 1700...\n",
      "Episode 1800...\n",
      "Episode 1900...\n",
      "Video in ./video/Taxi-v3/f0855801-c7c4-4fcf-8211-e80ed7a10739\n"
     ]
    },
    {
     "data": {
      "image/png": "[encoded data removed]",
      "text/plain": [
       "<Figure size 640x480 with 1 Axes>"
      ]
     },
     "metadata": {},
     "output_type": "display_data"
    }
   ],
   "source": [
    "env, folder_name = create_environment(\"Taxi-v3\")\n",
    "rewards = learn(env, 2000, UpperConfidenceBound, QTable)\n",
    "\n",
    "print(f\"Video in {folder_name}\")\n",
    "\n",
    "plt.plot(rewards)\n",
    "plt.show()"
   ]
  },
  {
   "cell_type": "code",
   "execution_count": null,
   "metadata": {},
   "outputs": [],
   "source": []
  }
 ],
 "metadata": {
  "kernelspec": {
   "display_name": "Python 3 (ipykernel)",
   "language": "python",
   "name": "python3"
  },
  "language_info": {
   "codemirror_mode": {
    "name": "ipython",
    "version": 3
   },
   "file_extension": ".py",
   "mimetype": "text/x-python",
   "name": "python",
   "nbconvert_exporter": "python",
   "pygments_lexer": "ipython3",
   "version": "3.11.6"
  }
 },
 "nbformat": 4,
 "nbformat_minor": 4
}
